{
  "nbformat": 4,
  "nbformat_minor": 0,
  "metadata": {
    "colab": {
      "name": "dist_sac.ipynb",
      "provenance": [],
      "collapsed_sections": [],
      "machine_shape": "hm",
      "include_colab_link": true
    },
    "kernelspec": {
      "name": "python3",
      "display_name": "Python 3"
    },
    "accelerator": "GPU"
  },
  "cells": [
    {
      "cell_type": "markdown",
      "metadata": {
        "id": "view-in-github",
        "colab_type": "text"
      },
      "source": [
        "<a href=\"https://colab.research.google.com/github/komo135/tradingrl/blob/master/dist_sac.ipynb\" target=\"_parent\"><img src=\"https://colab.research.google.com/assets/colab-badge.svg\" alt=\"Open In Colab\"/></a>"
      ]
    },
    {
      "cell_type": "code",
      "metadata": {
        "id": "cBVV8hQizHTI",
        "colab_type": "code",
        "outputId": "5e378dbd-23e8-4f06-c180-fea0d269b357",
        "colab": {
          "base_uri": "https://localhost:8080/",
          "height": 74
        }
      },
      "source": [
        "# Google ドライブをマウントするには、このセルを実行してください。\n",
        "from google.colab import drive\n",
        "drive.mount('/content/drive')\n",
        "\n",
        "%cd drive/My Drive"
      ],
      "execution_count": 1,
      "outputs": [
        {
          "output_type": "stream",
          "text": [
            "Drive already mounted at /content/drive; to attempt to forcibly remount, call drive.mount(\"/content/drive\", force_remount=True).\n",
            "/content/drive/My Drive\n"
          ],
          "name": "stdout"
        }
      ]
    },
    {
      "cell_type": "code",
      "metadata": {
        "id": "yXQj6liny0Sd",
        "colab_type": "code",
        "colab": {}
      },
      "source": [
        "from ape_x import *\n",
        "import os\n",
        "import multiprocessing as mp\n",
        "import tensorflow as tf\n",
        "import numpy as np\n",
        "import time\n",
        "import shutil\n",
        "\n",
        "df = \"audpred60.csv\"\n",
        "\n",
        "_ = shutil.copy(\"/content/drive/My Drive/\"+df,\"/content\")\n",
        "# sac_one_step.ckpt\n",
        "saver_path = \"sac_rsi2.ckpt\"\n",
        "\n",
        "restore = False\n",
        "\n",
        "# if restore == True:\n",
        "#   _ = shutil.copy(\"/content/drive/My Drive/\" + saver_path + \".data-00000-of-00001\",\"/content\")\n",
        "#   _ = shutil.copy(\"/content/drive/My Drive/\" + saver_path + \".index\",\"/content\")\n",
        "#   _ = shutil.copy(\"/content/drive/My Drive/checkpoint\",\"/content\")\n",
        "  \n",
        "if restore == True:\n",
        "  _ = shutil.copy(\"/content/drive/My Drive/model/\" + saver_path + \".data-00000-of-00001\",\"/content\")\n",
        "  _ = shutil.copy(\"/content/drive/My Drive/model/\"+ saver_path + \".index\",\"/content\")\n",
        "  _ = shutil.copy(\"/content/drive/My Drive/model/checkpoint\",\"/content\")\n",
        "\n",
        "output_size = 2\n",
        "size = 240\n",
        "num_actor = 3\n",
        "mem_size = size * num_actor * 100\n",
        "  \n",
        "def actor_work(queues,epsilon, num):\n",
        "  sess = tf.InteractiveSession()\n",
        "  actor = Actor(df, 5, num, epsilon, sess,STEP_SIZE=size,OUTPUT_SIZE=output_size, save=False, saver_path=saver_path, restore=restore)\n",
        "  actor.run(queues, 10, 1000,200,24,n=4)\n",
        "\n",
        "def leaner_work(queues):\n",
        "        sess = tf.InteractiveSession()\n",
        "        leaner = Leaner(df, 5, sess,mem_size,output_size,'/gpu:0', save=True, saver_path=saver_path, restore=restore,noise=False, norm=False)\n",
        "        leaner.leaner(queues)"
      ],
      "execution_count": 0,
      "outputs": []
    },
    {
      "cell_type": "code",
      "metadata": {
        "id": "1FBIJ0z4zKf7",
        "colab_type": "code",
        "outputId": "ce3ad643-dae9-440d-a213-a42bfcfef586",
        "colab": {
          "base_uri": "https://localhost:8080/",
          "height": 783
        }
      },
      "source": [
        "%cd /content\n",
        "\n",
        "queue = mp.Queue()\n",
        "ps = [mp.Process(target=leaner_work, args=(queue,))]\n",
        "for i in range(num_actor):\n",
        "  epsilon = 0.0 if i == 0 else np.random.rand()\n",
        "  ps.append(mp.Process(target=actor_work, args=(queue,epsilon,i)))\n",
        "            \n",
        "for p in ps:\n",
        "    p.start()\n",
        "    time.sleep(1)\n",
        "\n",
        "for p in ps:\n",
        "    p.join()"
      ],
      "execution_count": 0,
      "outputs": [
        {
          "output_type": "stream",
          "text": [
            "/content\n"
          ],
          "name": "stdout"
        },
        {
          "output_type": "stream",
          "text": [
            "/content/drive/My Drive/ape_x.py:483: FutureWarning: Currently, 'apply' passes the values as ndarrays to the applied function. In the future, this will change to passing it as Series objects. You need to specify 'raw=True' to keep the current behaviour, and you can pass 'raw=False' to silence this warning\n",
            "  return gain.rolling(n).apply(rsiCalc)\n",
            "/content/drive/My Drive/ape_x.py:199: FutureWarning: Currently, 'apply' passes the values as ndarrays to the applied function. In the future, this will change to passing it as Series objects. You need to specify 'raw=True' to keep the current behaviour, and you can pass 'raw=False' to silence this warning\n",
            "  return gain.rolling(n).apply(rsiCalc)\n",
            "/content/drive/My Drive/ape_x.py:199: FutureWarning: Currently, 'apply' passes the values as ndarrays to the applied function. In the future, this will change to passing it as Series objects. You need to specify 'raw=True' to keep the current behaviour, and you can pass 'raw=False' to silence this warning\n",
            "  return gain.rolling(n).apply(rsiCalc)\n",
            "/content/drive/My Drive/ape_x.py:199: FutureWarning: Currently, 'apply' passes the values as ndarrays to the applied function. In the future, this will change to passing it as Series objects. You need to specify 'raw=True' to keep the current behaviour, and you can pass 'raw=False' to silence this warning\n",
            "  return gain.rolling(n).apply(rsiCalc)\n",
            "/content/drive/My Drive/memory.py:127: RuntimeWarning: divide by zero encountered in double_scalars\n",
            "  max_weight = (p_min * n) ** (-self.PER_b)\n"
          ],
          "name": "stderr"
        },
        {
          "output_type": "stream",
          "text": [
            "action probability =  [0.2217573221757322, 0.7782426778242678, 0.0]\n",
            "trade accuracy =  0.47058823529411764\n",
            "epoch: 10, total rewards: 3703.000000, mean rewards: 371.849372\n",
            "action probability =  [0.42677824267782427, 0.5732217573221757, 0.0]\n",
            "trade accuracy =  0.48739495798319327\n",
            "epoch: 20, total rewards: 688.000000, mean rewards: 69.087866\n",
            "action probability =  [0.8577405857740585, 0.14225941422594143, 0.0]\n",
            "trade accuracy =  0.6092436974789915\n",
            "epoch: 30, total rewards: 30996.000000, mean rewards: 3112.569038\n",
            "action probability =  [0.2217573221757322, 0.7782426778242678, 0.0]\n",
            "trade accuracy =  0.4495798319327731\n",
            "epoch: 40, total rewards: -2258.000000, mean rewards: -226.744770\n",
            "action probability =  [0.5439330543933054, 0.4560669456066946, 0.0]\n",
            "trade accuracy =  0.46382978723404256\n",
            "epoch: 50, total rewards: 801.000000, mean rewards: 80.435146\n",
            "action probability =  [0.8577405857740585, 0.14225941422594143, 0.0]\n",
            "trade accuracy =  0.5378151260504201\n",
            "epoch: 60, total rewards: 12198.000000, mean rewards: 1224.903766\n",
            "action probability =  [0.3682008368200837, 0.6317991631799164, 0.0]\n",
            "trade accuracy =  0.35443037974683544\n",
            "epoch: 70, total rewards: -6588.000000, mean rewards: -661.556485\n",
            "action probability =  [0.895397489539749, 0.10460251046025104, 0.0]\n",
            "trade accuracy =  0.5798319327731093\n",
            "epoch: 80, total rewards: 45202.000000, mean rewards: 4539.112971\n",
            "action probability =  [0.6150627615062761, 0.38493723849372385, 0.0]\n",
            "trade accuracy =  0.3739495798319328\n",
            "epoch: 90, total rewards: 3681.000000, mean rewards: 369.640167\n",
            "action probability =  [0.18828451882845187, 0.8117154811715481, 0.0]\n",
            "trade accuracy =  0.40336134453781514\n",
            "epoch: 100, total rewards: -1518.000000, mean rewards: -152.435146\n"
          ],
          "name": "stdout"
        }
      ]
    },
    {
      "cell_type": "code",
      "metadata": {
        "id": "QoY9bXh69UtJ",
        "colab_type": "code",
        "colab": {}
      },
      "source": [
        "from multiprocessing import Process, Queue\n",
        "\n",
        "def f(q):\n",
        "  for i in range(100):\n",
        "    rand = np.random.RandomState()\n",
        "    if rand.rand() < 0.2:\n",
        "      action = rand.choice(3, p=(0.2,0.3,0.5))\n",
        "      print(i)\n",
        "      print(action)\n",
        "\n",
        "if __name__ == '__main__':\n",
        "    q = Queue()\n",
        "    p = Process(target=f, args=(q,))\n",
        "    p.start()\n",
        "    p.join()"
      ],
      "execution_count": 0,
      "outputs": []
    },
    {
      "cell_type": "code",
      "metadata": {
        "id": "bfAKRJrCaZFi",
        "colab_type": "code",
        "colab": {}
      },
      "source": [
        "a = np.asanyarray([[1,1,1,1],[0,0,0,0]])"
      ],
      "execution_count": 0,
      "outputs": []
    },
    {
      "cell_type": "code",
      "metadata": {
        "id": "IABToLrT_8YF",
        "colab_type": "code",
        "colab": {}
      },
      "source": [
        "b = [i[0][0] for i in a]"
      ],
      "execution_count": 0,
      "outputs": []
    },
    {
      "cell_type": "code",
      "metadata": {
        "id": "PuA8kBwRAVBW",
        "colab_type": "code",
        "colab": {}
      },
      "source": [
        "import urllib.request\n",
        "import urllib.parse\n",
        "\n",
        "\n",
        "url = 'https://www.googleapis.com/drive/v2/files/trash'\n",
        "f = urllib.request.urlopen(url)"
      ],
      "execution_count": 0,
      "outputs": []
    }
  ]
}