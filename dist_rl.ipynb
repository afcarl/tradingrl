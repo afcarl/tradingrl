{
  "nbformat": 4,
  "nbformat_minor": 0,
  "metadata": {
    "colab": {
      "name": "dist_rl.ipynb",
      "provenance": [],
      "collapsed_sections": [],
      "machine_shape": "hm",
      "include_colab_link": true
    },
    "kernelspec": {
      "name": "python3",
      "display_name": "Python 3"
    },
    "accelerator": "GPU"
  },
  "cells": [
    {
      "cell_type": "markdown",
      "metadata": {
        "id": "view-in-github",
        "colab_type": "text"
      },
      "source": [
        "<a href=\"https://colab.research.google.com/github/komo135/tradingrl/blob/master/dist_rl.ipynb\" target=\"_parent\"><img src=\"https://colab.research.google.com/assets/colab-badge.svg\" alt=\"Open In Colab\"/></a>"
      ]
    },
    {
      "cell_type": "code",
      "metadata": {
        "id": "cBVV8hQizHTI",
        "colab_type": "code",
        "outputId": "91a0a385-79ac-448b-f2bc-7c669deec27a",
        "colab": {
          "base_uri": "https://localhost:8080/",
          "height": 54
        }
      },
      "source": [
        "# Google ドライブをマウントするには、このセルを実行してください。\n",
        "from google.colab import drive\n",
        "drive.mount('/content/drive')\n",
        "\n",
        "%cd drive/My Drive"
      ],
      "execution_count": 1,
      "outputs": [
        {
          "output_type": "stream",
          "text": [
            "Drive already mounted at /content/drive; to attempt to forcibly remount, call drive.mount(\"/content/drive\", force_remount=True).\n",
            "/content/drive/My Drive\n"
          ],
          "name": "stdout"
        }
      ]
    },
    {
      "cell_type": "code",
      "metadata": {
        "id": "prD6-LCFQYzW",
        "colab_type": "code",
        "outputId": "cb72dc17-40c9-402f-8d67-81ce0c88d054",
        "colab": {
          "base_uri": "https://localhost:8080/",
          "height": 181
        }
      },
      "source": [
        "!pip install ta"
      ],
      "execution_count": 2,
      "outputs": [
        {
          "output_type": "stream",
          "text": [
            "Requirement already satisfied: ta in /usr/local/lib/python3.6/dist-packages (0.4.5)\n",
            "Requirement already satisfied: numpy in /usr/local/lib/python3.6/dist-packages (from ta) (1.16.5)\n",
            "Requirement already satisfied: pandas in /usr/local/lib/python3.6/dist-packages (from ta) (0.24.2)\n",
            "Requirement already satisfied: scikit-learn in /usr/local/lib/python3.6/dist-packages (from ta) (0.21.3)\n",
            "Requirement already satisfied: python-dateutil>=2.5.0 in /usr/local/lib/python3.6/dist-packages (from pandas->ta) (2.5.3)\n",
            "Requirement already satisfied: pytz>=2011k in /usr/local/lib/python3.6/dist-packages (from pandas->ta) (2018.9)\n",
            "Requirement already satisfied: joblib>=0.11 in /usr/local/lib/python3.6/dist-packages (from scikit-learn->ta) (0.13.2)\n",
            "Requirement already satisfied: scipy>=0.17.0 in /usr/local/lib/python3.6/dist-packages (from scikit-learn->ta) (1.3.1)\n",
            "Requirement already satisfied: six>=1.5 in /usr/local/lib/python3.6/dist-packages (from python-dateutil>=2.5.0->pandas->ta) (1.12.0)\n"
          ],
          "name": "stdout"
        }
      ]
    },
    {
      "cell_type": "code",
      "metadata": {
        "id": "yXQj6liny0Sd",
        "colab_type": "code",
        "colab": {}
      },
      "source": [
        "from dist_td3 import *\n",
        "import os\n",
        "import multiprocessing as mp\n",
        "import tensorflow as tf\n",
        "import numpy as np\n",
        "import time\n",
        "import shutil\n",
        "from multiprocessing import Pool\n",
        "\n",
        "df = \"audpred60.csv\"\n",
        "\n",
        "_ = shutil.copy(\"/content/drive/My Drive/\"+df,\"/content\")\n",
        "# sac_one_step.ckpt\n",
        "saver_path = \"td3.ckpt\"\n",
        "\n",
        "restore = True\n",
        "\n",
        "if restore == True:\n",
        "  _ = shutil.copy(\"/content/drive/My Drive/\" + saver_path + \".data-00000-of-00001\",\"/content\")\n",
        "  _ = shutil.copy(\"/content/drive/My Drive/\" + saver_path + \".index\",\"/content\")\n",
        "  _ = shutil.copy(\"/content/drive/My Drive/checkpoint\",\"/content\")\n",
        "  \n",
        "# if restore == True:\n",
        "#   _ = shutil.copy(\"/content/drive/My Drive/model/\" + saver_path + \".data-00000-of-00001\",\"/content\")\n",
        "#   _ = shutil.copy(\"/content/drive/My Drive/model/\"+ saver_path + \".index\",\"/content\")\n",
        "#   _ = shutil.copy(\"/content/drive/My Drive/model/checkpoint\",\"/content\")\n",
        "\n",
        "output_size = 2\n",
        "window_size = 10\n",
        "size = 120\n",
        "num_actor = 8\n",
        "mem_size = size * num_actor * 1000\n",
        "  \n",
        "def actor_work(queues, num):\n",
        "  sess = tf.InteractiveSession()\n",
        "  actor = Actor(sess, df, window_size, num, size, output_size, saver_path, restore)\n",
        "  actor.run(queues, 10, 1000,100,24,n=4)\n",
        "\n",
        "device='/device:GPU:0'\n",
        "# device = '/cpu:0'\n",
        "  \n",
        "def leaner_work(queues):\n",
        "        sess = tf.InteractiveSession()\n",
        "        leaner = Leaner(sess, df, window_size, output_size,mem_size, device, saver_path, restore)\n",
        "        leaner.leaner(queues)"
      ],
      "execution_count": 0,
      "outputs": []
    },
    {
      "cell_type": "code",
      "metadata": {
        "id": "1FBIJ0z4zKf7",
        "colab_type": "code",
        "outputId": "0c70d2a3-2fff-49ff-faa2-dcac75147fe7",
        "colab": {
          "base_uri": "https://localhost:8080/",
          "height": 1000
        }
      },
      "source": [
        "%cd /content\n",
        "\n",
        "queue = mp.Queue()\n",
        "ps = [mp.Process(target=leaner_work, args=(queue,))]\n",
        "for i in range(num_actor):\n",
        "  ps.append(mp.Process(target=actor_work, args=(queue,i)))\n",
        "\n",
        "for p in ps:\n",
        "    p.start()\n",
        "    time.sleep(1)\n",
        "\n",
        "for p in ps:\n",
        "    p.join()"
      ],
      "execution_count": 0,
      "outputs": [
        {
          "output_type": "stream",
          "text": [
            "/content\n"
          ],
          "name": "stdout"
        },
        {
          "output_type": "stream",
          "text": [
            "/content/drive/My Drive/memory.py:127: RuntimeWarning: divide by zero encountered in double_scalars\n",
            "  max_weight = (p_min * n) ** (-self.PER_b)\n"
          ],
          "name": "stderr"
        },
        {
          "output_type": "stream",
          "text": [
            "action probability =  [0.6974789915966386, 0.3025210084033613, 0.0]\n",
            "trade accuracy =  0.45689655172413796\n",
            "epoch: 5, total rewards: 9114.000000, mean rewards: 1838.117647\n",
            "action probability =  [0.6134453781512605, 0.3865546218487395, 0.0]\n",
            "trade accuracy =  0.3389830508474576\n",
            "epoch: 10, total rewards: 2377.000000, mean rewards: 479.394958\n",
            "action probability =  [0.5882352941176471, 0.4117647058823529, 0.0]\n",
            "trade accuracy =  0.37606837606837606\n",
            "epoch: 15, total rewards: -866.000000, mean rewards: -174.655462\n",
            "action probability =  [0.5798319327731093, 0.42016806722689076, 0.0]\n",
            "trade accuracy =  0.4017094017094017\n",
            "epoch: 20, total rewards: 64.000000, mean rewards: 12.907563\n",
            "action probability =  [0.6218487394957983, 0.37815126050420167, 0.0]\n",
            "trade accuracy =  0.3879310344827586\n",
            "epoch: 25, total rewards: 5573.000000, mean rewards: 1123.966387\n",
            "action probability =  [0.5798319327731093, 0.42016806722689076, 0.0]\n",
            "trade accuracy =  0.5169491525423728\n",
            "epoch: 30, total rewards: 7197.000000, mean rewards: 1451.495798\n",
            "action probability =  [0.6890756302521008, 0.31092436974789917, 0.0]\n",
            "trade accuracy =  0.49572649572649574\n",
            "epoch: 35, total rewards: 3529.000000, mean rewards: 711.731092\n",
            "action probability =  [0.6470588235294118, 0.35294117647058826, 0.0]\n",
            "trade accuracy =  0.5\n",
            "epoch: 40, total rewards: 14224.000000, mean rewards: 2868.705882\n",
            "action probability =  [0.6302521008403361, 0.3697478991596639, 0.0]\n",
            "trade accuracy =  0.39316239316239315\n",
            "epoch: 45, total rewards: 1188.000000, mean rewards: 239.596639\n",
            "action probability =  [0.5966386554621849, 0.40336134453781514, 0.0]\n",
            "trade accuracy =  0.423728813559322\n",
            "epoch: 50, total rewards: 1717.000000, mean rewards: 346.285714\n",
            "action probability =  [0.6554621848739496, 0.3445378151260504, 0.0]\n",
            "trade accuracy =  0.3275862068965517\n",
            "epoch: 55, total rewards: 1304.000000, mean rewards: 262.991597\n",
            "action probability =  [0.5798319327731093, 0.42016806722689076, 0.0]\n",
            "trade accuracy =  0.4152542372881356\n",
            "epoch: 60, total rewards: 1880.000000, mean rewards: 379.159664\n",
            "action probability =  [0.6722689075630253, 0.3277310924369748, 0.0]\n",
            "trade accuracy =  0.42105263157894735\n",
            "epoch: 65, total rewards: 1509.000000, mean rewards: 304.336134\n",
            "action probability =  [0.5630252100840336, 0.4369747899159664, 0.0]\n",
            "trade accuracy =  0.5043478260869565\n",
            "epoch: 70, total rewards: 4883.000000, mean rewards: 984.806723\n",
            "action probability =  [0.5294117647058824, 0.47058823529411764, 0.0]\n",
            "trade accuracy =  0.47413793103448276\n",
            "epoch: 75, total rewards: 3374.000000, mean rewards: 680.470588\n",
            "action probability =  [0.6638655462184874, 0.33613445378151263, 0.0]\n",
            "trade accuracy =  0.47413793103448276\n",
            "epoch: 80, total rewards: 5415.000000, mean rewards: 1092.100840\n",
            "action probability =  [0.6302521008403361, 0.3697478991596639, 0.0]\n",
            "trade accuracy =  0.452991452991453\n",
            "epoch: 85, total rewards: 1303.000000, mean rewards: 262.789916\n",
            "action probability =  [0.6050420168067226, 0.3949579831932773, 0.0]\n",
            "trade accuracy =  0.4067796610169492\n",
            "epoch: 90, total rewards: 1084.000000, mean rewards: 218.621849\n",
            "action probability =  [0.6722689075630253, 0.3277310924369748, 0.0]\n",
            "trade accuracy =  0.5338983050847458\n",
            "epoch: 95, total rewards: 6927.000000, mean rewards: 1397.042017\n",
            "action probability =  [0.6134453781512605, 0.3865546218487395, 0.0]\n",
            "trade accuracy =  0.4051724137931034\n",
            "epoch: 100, total rewards: 712.000000, mean rewards: 143.596639\n",
            "action probability =  [0.5798319327731093, 0.42016806722689076, 0.0]\n",
            "trade accuracy =  0.5677966101694916\n",
            "epoch: 105, total rewards: 6175.000000, mean rewards: 1245.378151\n",
            "action probability =  [0.6050420168067226, 0.3949579831932773, 0.0]\n",
            "trade accuracy =  0.43478260869565216\n",
            "epoch: 110, total rewards: 3009.000000, mean rewards: 606.857143\n",
            "action probability =  [0.6470588235294118, 0.35294117647058826, 0.0]\n",
            "trade accuracy =  0.4396551724137931\n",
            "epoch: 115, total rewards: 3798.000000, mean rewards: 765.983193\n",
            "action probability =  [0.6218487394957983, 0.37815126050420167, 0.0]\n",
            "trade accuracy =  0.5948275862068966\n",
            "epoch: 120, total rewards: 9210.000000, mean rewards: 1857.478992\n",
            "action probability =  [0.6386554621848739, 0.36134453781512604, 0.0]\n",
            "trade accuracy =  0.4188034188034188\n",
            "epoch: 125, total rewards: 2135.000000, mean rewards: 430.588235\n"
          ],
          "name": "stdout"
        }
      ]
    },
    {
      "cell_type": "code",
      "metadata": {
        "id": "PuA8kBwRAVBW",
        "colab_type": "code",
        "colab": {}
      },
      "source": [
        "df = pd.read_csv(\"audpred60.csv\")\n",
        "dat = pd.DataFrame({\"Close\": df[\"Close\"]})"
      ],
      "execution_count": 0,
      "outputs": []
    },
    {
      "cell_type": "code",
      "metadata": {
        "id": "eZWQ5VIRXl25",
        "colab_type": "code",
        "colab": {}
      },
      "source": [
        "df[\"26 ema\"] = df[\"Close\"].ewm(span=26).mean()"
      ],
      "execution_count": 0,
      "outputs": []
    },
    {
      "cell_type": "code",
      "metadata": {
        "id": "TzrI3w7kc6U3",
        "colab_type": "code",
        "colab": {}
      },
      "source": [
        "mp.cpu_count()"
      ],
      "execution_count": 0,
      "outputs": []
    }
  ]
}