{
  "nbformat": 4,
  "nbformat_minor": 0,
  "metadata": {
    "colab": {
      "name": "Evolution Strategies.ipynb",
      "provenance": [],
      "collapsed_sections": [],
      "include_colab_link": true
    },
    "kernelspec": {
      "name": "python3",
      "display_name": "Python 3"
    }
  },
  "cells": [
    {
      "cell_type": "markdown",
      "metadata": {
        "id": "view-in-github",
        "colab_type": "text"
      },
      "source": [
        "<a href=\"https://colab.research.google.com/github/komo135/tradingrl/blob/master/Evolution_Strategies.ipynb\" target=\"_parent\"><img src=\"https://colab.research.google.com/assets/colab-badge.svg\" alt=\"Open In Colab\"/></a>"
      ]
    },
    {
      "cell_type": "code",
      "metadata": {
        "id": "DXpyhGyC4Cpk",
        "colab_type": "code",
        "outputId": "928d1c68-e421-4684-d0e5-4180b8975fdb",
        "colab": {
          "base_uri": "https://localhost:8080/",
          "height": 54
        }
      },
      "source": [
        "# Google ドライブをマウントするには、このセルを実行してください。\n",
        "from google.colab import drive\n",
        "drive.mount('/content/drive')\n",
        "\n",
        "%cd drive/My Drive"
      ],
      "execution_count": 1,
      "outputs": [
        {
          "output_type": "stream",
          "text": [
            "Drive already mounted at /content/drive; to attempt to forcibly remount, call drive.mount(\"/content/drive\", force_remount=True).\n",
            "/content/drive/My Drive\n"
          ],
          "name": "stdout"
        }
      ]
    },
    {
      "cell_type": "code",
      "metadata": {
        "id": "wuQVZCJv4FBu",
        "colab_type": "code",
        "outputId": "97845f84-ed5b-4354-8fca-299cc28201f8",
        "colab": {
          "base_uri": "https://localhost:8080/",
          "height": 181
        }
      },
      "source": [
        "!pip install ta"
      ],
      "execution_count": 2,
      "outputs": [
        {
          "output_type": "stream",
          "text": [
            "Requirement already satisfied: ta in /usr/local/lib/python3.6/dist-packages (0.4.5)\n",
            "Requirement already satisfied: numpy in /usr/local/lib/python3.6/dist-packages (from ta) (1.16.5)\n",
            "Requirement already satisfied: scikit-learn in /usr/local/lib/python3.6/dist-packages (from ta) (0.21.3)\n",
            "Requirement already satisfied: pandas in /usr/local/lib/python3.6/dist-packages (from ta) (0.24.2)\n",
            "Requirement already satisfied: scipy>=0.17.0 in /usr/local/lib/python3.6/dist-packages (from scikit-learn->ta) (1.3.1)\n",
            "Requirement already satisfied: joblib>=0.11 in /usr/local/lib/python3.6/dist-packages (from scikit-learn->ta) (0.13.2)\n",
            "Requirement already satisfied: pytz>=2011k in /usr/local/lib/python3.6/dist-packages (from pandas->ta) (2018.9)\n",
            "Requirement already satisfied: python-dateutil>=2.5.0 in /usr/local/lib/python3.6/dist-packages (from pandas->ta) (2.5.3)\n",
            "Requirement already satisfied: six>=1.5 in /usr/local/lib/python3.6/dist-packages (from python-dateutil>=2.5.0->pandas->ta) (1.12.0)\n"
          ],
          "name": "stdout"
        }
      ]
    },
    {
      "cell_type": "code",
      "metadata": {
        "id": "SecmHJge38IS",
        "colab_type": "code",
        "colab": {}
      },
      "source": [
        "import numpy as np\n",
        "import pandas as pd\n",
        "import pickle\n",
        "import time\n",
        "import random\n",
        "import ta\n",
        "import tensorflow as tf\n",
        "from net import *\n",
        "from memory import *\n",
        "from reward import *"
      ],
      "execution_count": 0,
      "outputs": []
    },
    {
      "cell_type": "code",
      "metadata": {
        "id": "rQOIhf5N4Ie1",
        "colab_type": "code",
        "colab": {}
      },
      "source": [
        "class Deep_Evolution_Strategy:\n",
        "\n",
        "    inputs = None\n",
        "\n",
        "    def __init__(\n",
        "        self, weights, reward_function,test_function, population_size, sigma, learning_rate\n",
        "    ):\n",
        "        self.weights = weights\n",
        "        self.reward_function = reward_function\n",
        "        self.test_function = test_function\n",
        "        self.population_size = population_size\n",
        "        self.sigma = sigma\n",
        "        self.learning_rate = learning_rate\n",
        "\n",
        "    def _get_weight_from_population(self, weights, population):\n",
        "        weights_population = []\n",
        "        for index, i in enumerate(population):\n",
        "            jittered = self.sigma * i\n",
        "            weights_population.append(weights[index] + jittered)\n",
        "        return weights_population\n",
        "\n",
        "    def get_weights(self):\n",
        "        return self.weights\n",
        "\n",
        "    def train(self, epoch = 100, print_every = 1):\n",
        "        lasttime = time.time()\n",
        "        for i in range(epoch):\n",
        "            population = []\n",
        "            rewards = np.zeros(self.population_size)\n",
        "            for k in range(self.population_size):\n",
        "                x = []\n",
        "                for w in self.weights:\n",
        "                    x.append(np.random.randn(*w.shape))\n",
        "                population.append(x)\n",
        "            change = True\n",
        "            for k in range(self.population_size):\n",
        "                weights_population = self._get_weight_from_population(\n",
        "                    self.weights, population[k]\n",
        "                )\n",
        "                rewards[k] = self.reward_function(weights_population, change)\n",
        "                change = False\n",
        "            rewards = (rewards - np.mean(rewards)) / (np.std(rewards) + 1e-5)\n",
        "            for index, w in enumerate(self.weights):\n",
        "                A = np.array([p[index] for p in population])\n",
        "                self.weights[index] = (\n",
        "                    w\n",
        "                    + self.learning_rate\n",
        "                    / (self.population_size * self.sigma)\n",
        "                    * np.dot(A.T, rewards).T\n",
        "                )\n",
        "            if (i + 1) % print_every == 0:\n",
        "                self.test_function(self.weights,i)\n",
        "                f = open('weights.txt', 'wb')\n",
        "                weights = self.get_weights()\n",
        "                pickle.dump(weights, f)\n",
        "                \n",
        "        print('time taken to train:', time.time() - lasttime, 'seconds')\n",
        "\n",
        "\n",
        "class Model:\n",
        "    def __init__(self, input_size, layer_size, output_size=3,restore=False):\n",
        "      if restore:\n",
        "        self.weights = [\n",
        "              np.random.randn(input_size[0]*input_size[1], layer_size),\n",
        "              np.random.randn(layer_size, output_size),\n",
        "              np.random.randn(1, layer_size),\n",
        "          ]\n",
        "      f = open(\"./weights.txt\",\"rb\")\n",
        "      self.weights = pickle.load(f)\n",
        "\n",
        "    def predict(self, inputs):\n",
        "        inputs = inputs.flatten()\n",
        "        feed = np.dot(inputs, self.weights[0]) + self.weights[-1]\n",
        "        decision = np.dot(feed, self.weights[1])\n",
        "        return decision\n",
        "\n",
        "    def get_weights(self):\n",
        "        return self.weights\n",
        "\n",
        "    def set_weights(self, weights):\n",
        "        self.weights = weights"
      ],
      "execution_count": 0,
      "outputs": []
    },
    {
      "cell_type": "code",
      "metadata": {
        "id": "Q8BATs8Xyjwy",
        "colab_type": "code",
        "colab": {}
      },
      "source": [
        "class Agent:\n",
        "\n",
        "    POPULATION_SIZE = 1000\n",
        "    SIGMA = 0.1\n",
        "    LEARNING_RATE = 0.01\n",
        "\n",
        "    def __init__(self, path, window_size, step_size ,spread=10, pip_cost=1000, los_cut=100):\n",
        "        self.rand = np.random.RandomState()\n",
        "        self.path = path\n",
        "        self.window_size = window_size\n",
        "        self.step_size = step_size\n",
        "        self.spread = spread / pip_cost\n",
        "        self.pip_cost = pip_cost\n",
        "        self.los_cut = los_cut\n",
        "        self.preproc()\n",
        "        input_size = (window_size,self.df.shape[-1])\n",
        "        self.model = Model(input_size,500,3,True)\n",
        "        self.rewards = reward3\n",
        "        self.es = Deep_Evolution_Strategy(\n",
        "            self.model.get_weights(),\n",
        "            self.get_reward,\n",
        "            self.test,\n",
        "            self.POPULATION_SIZE,\n",
        "            self.SIGMA,\n",
        "            self.LEARNING_RATE,\n",
        "        )\n",
        "\n",
        "    def act(self, sequence):\n",
        "        decision = self.model.predict(np.array(sequence))\n",
        "        return np.argmax(decision[0])\n",
        "      \n",
        "    def preproc(self):\n",
        "          self.dat = df = pd.read_csv(self.path)\n",
        "          s = np.asanyarray(ta.stoch(df[\"High\"],df[\"Low\"],df[\"Close\"],14)).reshape((-1, 1)) - np.asanyarray(ta.stoch_signal(df[\"High\"],df[\"Low\"],df[\"Close\"],14)).reshape((-1, 1))\n",
        "          m = np.asanyarray(ta.macd(df[\"Close\"])).reshape((-1, 1)) - np.asanyarray(ta.macd_signal(df[\"Close\"])).reshape((-1, 1))\n",
        "          trend3 = np.asanyarray(self.dat[[\"Close\"]]) - np.asanyarray(ta.ema(self.dat[\"Close\"],20)).reshape((-1, 1))\n",
        "          cross1 = np.asanyarray(ta.ema(self.dat[\"Close\"],20)).reshape((-1, 1)) - np.asanyarray(ta.ema(self.dat[\"Close\"],5)).reshape((-1, 1))\n",
        "          y = np.asanyarray(self.dat[[\"Open\"]])\n",
        "          x = np.concatenate([s,m,cross1], 1)\n",
        "\n",
        "          gen = tf.keras.preprocessing.sequence.TimeseriesGenerator(x, y, self.window_size)\n",
        "          self.x = []\n",
        "          self.y = []\n",
        "          for i in gen:\n",
        "              self.x.extend(i[0].tolist())\n",
        "              self.y.extend(i[1].tolist())\n",
        "          self.x = np.asanyarray(self.x)\n",
        "          self.y = np.asanyarray(self.y)\n",
        "\n",
        "          self.df = self.x[-self.step_size::]\n",
        "          self.trend = self.y[-self.step_size::]\n",
        "\n",
        "    def get_reward(self, weights,change=True):\n",
        "        self.model.weights = weights\n",
        "        states = []\n",
        "        pip = []\n",
        "        provisional_pip = 0.0\n",
        "        total_pip = 0.0\n",
        "        position = 3\n",
        "        h = self.rand.randint(self.x.shape[0]-(self.step_size+1))\n",
        "        self.df = self.x[h:h+self.step_size]\n",
        "        self.trend = self.y[h:h+self.step_size]\n",
        "        for t in range(0, len(self.trend) - 1):\n",
        "            action = self.act(self.df[t])\n",
        "            states,provisional_pip,position,total_pip = self.rewards(self.trend[t],pip,provisional_pip,action,position,states,self.pip_cost,self.spread,total_pip)\n",
        "        return total_pip * self.pip_cost\n",
        "      \n",
        "    def test(self, weights,i):\n",
        "        self.model.weights = weights\n",
        "        states = []\n",
        "        pip = []\n",
        "        history = []\n",
        "        h_p = []\n",
        "        provisional_pip = 0.0\n",
        "        total_pip = 0.0\n",
        "        position = 3\n",
        "        for t in range(0, len(self.trend) - 1):\n",
        "            action = self.act(self.df[t])\n",
        "            history.append(action)\n",
        "            states,provisional_pip,position,total_pip = self.rewards(self.trend[t],pip,provisional_pip,action,position,states,self.pip_cost,self.spread,total_pip)\n",
        "            h_p.append(position)\n",
        "        self.pip = np.asanyarray(provisional_pip) * self.pip_cost\n",
        "        self.pip = [p if p >= -self.los_cut else -self.los_cut for p in self.pip]\n",
        "        self.total_pip = np.sum(self.pip)\n",
        "        mean_pip = self.total_pip / (t + 1)\n",
        "        trade_accuracy = np.mean(np.asanyarray(self.pip) > 0)\n",
        "        self.trade = trade_accuracy\n",
        "        mean_pip *= 24\n",
        "        prob = self.prob(history)\n",
        "        position_prob = self.prob(h_p)\n",
        "      \n",
        "        print(\"\")\n",
        "        print('action probability = ', prob)\n",
        "        print(\"buy = \", position_prob[1], \" sell = \", position_prob[-1])\n",
        "        print('trade accuracy = ', trade_accuracy)\n",
        "        print('epoch: %d, total rewards: %f, mean rewards: %f' % (i+1, float(self.total_pip), float(mean_pip)))\n",
        "        \n",
        "    def prob(self,history):\n",
        "        prob = np.asanyarray(history)\n",
        "        a = np.mean(prob == 0)\n",
        "        b = np.mean(prob == 1)\n",
        "        c = 1 - (a + b)\n",
        "        prob = [a,b,c]\n",
        "        return prob\n",
        "      \n",
        "    def fit(self, iterations, checkpoint):\n",
        "        self.es.train(iterations, print_every = checkpoint)"
      ],
      "execution_count": 0,
      "outputs": []
    },
    {
      "cell_type": "code",
      "metadata": {
        "id": "b0NRq9_w8dtg",
        "colab_type": "code",
        "outputId": "3efee0af-6eac-47f1-b0a6-3851244686f3",
        "colab": {
          "base_uri": "https://localhost:8080/",
          "height": 835
        }
      },
      "source": [
        "window_size = 30\n",
        "step_size = 96\n",
        "path = \"audpred15.csv\"\n",
        "\n",
        "agent = Agent(path = path, \n",
        "              window_size = window_size,\n",
        "              step_size = step_size)\n",
        "agent.fit(iterations = 50000, checkpoint = 1)"
      ],
      "execution_count": 0,
      "outputs": [
        {
          "output_type": "stream",
          "text": [
            "\n",
            "action probability =  [0.35789473684210527, 0.28421052631578947, 0.35789473684210527]\n",
            "buy =  0.5263157894736842  sell =  0.4736842105263158\n",
            "trade accuracy =  0.40298507462686567\n",
            "epoch: 1, total rewards: 737.000000, mean rewards: 186.189474\n",
            "\n",
            "action probability =  [0.4421052631578947, 0.2631578947368421, 0.2947368421052632]\n",
            "buy =  0.631578947368421  sell =  0.368421052631579\n",
            "trade accuracy =  0.34545454545454546\n",
            "epoch: 2, total rewards: -203.000000, mean rewards: -51.284211\n",
            "\n",
            "action probability =  [0.3894736842105263, 0.2736842105263158, 0.33684210526315783]\n",
            "buy =  0.5052631578947369  sell =  0.49473684210526314\n",
            "trade accuracy =  0.4098360655737705\n",
            "epoch: 3, total rewards: 249.000000, mean rewards: 62.905263\n",
            "\n",
            "action probability =  [0.35789473684210527, 0.30526315789473685, 0.33684210526315783]\n",
            "buy =  0.5473684210526316  sell =  0.4526315789473684\n",
            "trade accuracy =  0.3333333333333333\n",
            "epoch: 4, total rewards: -964.000000, mean rewards: -243.536842\n",
            "\n",
            "action probability =  [0.4, 0.22105263157894736, 0.3789473684210526]\n",
            "buy =  0.7052631578947368  sell =  0.2947368421052632\n",
            "trade accuracy =  0.2542372881355932\n",
            "epoch: 5, total rewards: -1168.000000, mean rewards: -295.073684\n",
            "\n",
            "action probability =  [0.43157894736842106, 0.2631578947368421, 0.3052631578947369]\n",
            "buy =  0.631578947368421  sell =  0.368421052631579\n",
            "trade accuracy =  0.3333333333333333\n",
            "epoch: 6, total rewards: -349.000000, mean rewards: -88.168421\n",
            "\n",
            "action probability =  [0.3684210526315789, 0.28421052631578947, 0.34736842105263155]\n",
            "buy =  0.5052631578947369  sell =  0.49473684210526314\n",
            "trade accuracy =  0.3620689655172414\n",
            "epoch: 7, total rewards: 1369.000000, mean rewards: 345.852632\n",
            "\n",
            "action probability =  [0.4, 0.2736842105263158, 0.3263157894736841]\n",
            "buy =  0.5578947368421052  sell =  0.4421052631578948\n",
            "trade accuracy =  0.4\n",
            "epoch: 8, total rewards: 625.000000, mean rewards: 157.894737\n",
            "\n",
            "action probability =  [0.4, 0.28421052631578947, 0.3157894736842105]\n",
            "buy =  0.6  sell =  0.4\n",
            "trade accuracy =  0.29310344827586204\n",
            "epoch: 9, total rewards: -1426.000000, mean rewards: -360.252632\n"
          ],
          "name": "stdout"
        }
      ]
    },
    {
      "cell_type": "code",
      "metadata": {
        "id": "mXI1PwN_xpXT",
        "colab_type": "code",
        "colab": {}
      },
      "source": [
        "import pickle\n",
        "f = open('list.txt', 'wb')\n",
        "list_row = [(1,1,1,111),(1,1,1),(1,1,11)]\n",
        "pickle.dump(list_row, f)"
      ],
      "execution_count": 0,
      "outputs": []
    },
    {
      "cell_type": "code",
      "metadata": {
        "id": "WMUSUHl1yARm",
        "colab_type": "code",
        "colab": {}
      },
      "source": [
        "f = open(\"./weights.txt\",\"rb\")\n",
        "list_row = pickle.load(f)"
      ],
      "execution_count": 0,
      "outputs": []
    },
    {
      "cell_type": "code",
      "metadata": {
        "id": "aBnhkjsoyBXt",
        "colab_type": "code",
        "colab": {}
      },
      "source": [
        "np.array((list_row)).shape"
      ],
      "execution_count": 0,
      "outputs": []
    },
    {
      "cell_type": "code",
      "metadata": {
        "id": "O2nbHdKjza-g",
        "colab_type": "code",
        "colab": {}
      },
      "source": [
        "weights = [\n",
        "  np.random.randn(30*2, 500),\n",
        "  np.random.randn(500, 3),\n",
        "  np.random.randn(1, 500),\n",
        "]\n",
        "\n",
        "def predict(inputs):\n",
        "  feed = np.dot(inputs, weights[0]) + weights[-1]\n",
        "  feed = feed.flatten().reshape((1,-1))\n",
        "  print(feed.shape)\n",
        "  decision = np.dot(feed, weights[1])\n",
        "  return decision"
      ],
      "execution_count": 0,
      "outputs": []
    },
    {
      "cell_type": "code",
      "metadata": {
        "id": "0lIz3sfv-8_t",
        "colab_type": "code",
        "colab": {}
      },
      "source": [
        "# inputs = np.random.randn(30,2).flatten()\n",
        "predict(inputs)"
      ],
      "execution_count": 0,
      "outputs": []
    }
  ]
}